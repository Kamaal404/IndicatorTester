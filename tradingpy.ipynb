{
 "cells": [
  {
   "cell_type": "code",
   "execution_count": 1,
   "id": "466e7a57",
   "metadata": {
    "scrolled": true
   },
   "outputs": [],
   "source": [
    "import pandas as pd\n",
    "import numpy as np\n",
    "data = pd.read_csv(\"C:\\\\Users\\\\TenSaY\\\\Documents\\\\tradingpy\\\\data2.csv\")\n"
   ]
  },
  {
   "cell_type": "code",
   "execution_count": 2,
   "id": "588d268e",
   "metadata": {},
   "outputs": [
    {
     "data": {
      "text/html": [
       "<div>\n",
       "<style scoped>\n",
       "    .dataframe tbody tr th:only-of-type {\n",
       "        vertical-align: middle;\n",
       "    }\n",
       "\n",
       "    .dataframe tbody tr th {\n",
       "        vertical-align: top;\n",
       "    }\n",
       "\n",
       "    .dataframe thead th {\n",
       "        text-align: right;\n",
       "    }\n",
       "</style>\n",
       "<table border=\"1\" class=\"dataframe\">\n",
       "  <thead>\n",
       "    <tr style=\"text-align: right;\">\n",
       "      <th></th>\n",
       "      <th>Local time</th>\n",
       "      <th>Open</th>\n",
       "      <th>High</th>\n",
       "      <th>Low</th>\n",
       "      <th>Close</th>\n",
       "      <th>Volume</th>\n",
       "    </tr>\n",
       "  </thead>\n",
       "  <tbody>\n",
       "    <tr>\n",
       "      <th>0</th>\n",
       "      <td>01.05.2019 00:00:00.000 GMT+0100</td>\n",
       "      <td>1.12112</td>\n",
       "      <td>1.12158</td>\n",
       "      <td>1.12111</td>\n",
       "      <td>1.12157</td>\n",
       "      <td>2146.6499</td>\n",
       "    </tr>\n",
       "    <tr>\n",
       "      <th>1</th>\n",
       "      <td>01.05.2019 01:00:00.000 GMT+0100</td>\n",
       "      <td>1.12157</td>\n",
       "      <td>1.12183</td>\n",
       "      <td>1.12148</td>\n",
       "      <td>1.12182</td>\n",
       "      <td>2129.1899</td>\n",
       "    </tr>\n",
       "    <tr>\n",
       "      <th>2</th>\n",
       "      <td>01.05.2019 02:00:00.000 GMT+0100</td>\n",
       "      <td>1.12182</td>\n",
       "      <td>1.12185</td>\n",
       "      <td>1.12166</td>\n",
       "      <td>1.12173</td>\n",
       "      <td>2105.9800</td>\n",
       "    </tr>\n",
       "    <tr>\n",
       "      <th>3</th>\n",
       "      <td>01.05.2019 03:00:00.000 GMT+0100</td>\n",
       "      <td>1.12172</td>\n",
       "      <td>1.12177</td>\n",
       "      <td>1.12138</td>\n",
       "      <td>1.12152</td>\n",
       "      <td>2010.6801</td>\n",
       "    </tr>\n",
       "    <tr>\n",
       "      <th>4</th>\n",
       "      <td>01.05.2019 04:00:00.000 GMT+0100</td>\n",
       "      <td>1.12152</td>\n",
       "      <td>1.12196</td>\n",
       "      <td>1.12151</td>\n",
       "      <td>1.12184</td>\n",
       "      <td>3163.2700</td>\n",
       "    </tr>\n",
       "  </tbody>\n",
       "</table>\n",
       "</div>"
      ],
      "text/plain": [
       "                         Local time     Open     High      Low    Close  \\\n",
       "0  01.05.2019 00:00:00.000 GMT+0100  1.12112  1.12158  1.12111  1.12157   \n",
       "1  01.05.2019 01:00:00.000 GMT+0100  1.12157  1.12183  1.12148  1.12182   \n",
       "2  01.05.2019 02:00:00.000 GMT+0100  1.12182  1.12185  1.12166  1.12173   \n",
       "3  01.05.2019 03:00:00.000 GMT+0100  1.12172  1.12177  1.12138  1.12152   \n",
       "4  01.05.2019 04:00:00.000 GMT+0100  1.12152  1.12196  1.12151  1.12184   \n",
       "\n",
       "      Volume  \n",
       "0  2146.6499  \n",
       "1  2129.1899  \n",
       "2  2105.9800  \n",
       "3  2010.6801  \n",
       "4  3163.2700  "
      ]
     },
     "execution_count": 2,
     "metadata": {},
     "output_type": "execute_result"
    }
   ],
   "source": [
    "data.head()"
   ]
  },
  {
   "cell_type": "code",
   "execution_count": 3,
   "id": "8fde82be",
   "metadata": {},
   "outputs": [
    {
     "data": {
      "text/html": [
       "<div>\n",
       "<style scoped>\n",
       "    .dataframe tbody tr th:only-of-type {\n",
       "        vertical-align: middle;\n",
       "    }\n",
       "\n",
       "    .dataframe tbody tr th {\n",
       "        vertical-align: top;\n",
       "    }\n",
       "\n",
       "    .dataframe thead th {\n",
       "        text-align: right;\n",
       "    }\n",
       "</style>\n",
       "<table border=\"1\" class=\"dataframe\">\n",
       "  <thead>\n",
       "    <tr style=\"text-align: right;\">\n",
       "      <th></th>\n",
       "      <th>Local time</th>\n",
       "      <th>Open</th>\n",
       "      <th>High</th>\n",
       "      <th>Low</th>\n",
       "      <th>Close</th>\n",
       "      <th>Volume</th>\n",
       "    </tr>\n",
       "  </thead>\n",
       "  <tbody>\n",
       "  </tbody>\n",
       "</table>\n",
       "</div>"
      ],
      "text/plain": [
       "Empty DataFrame\n",
       "Columns: [Local time, Open, High, Low, Close, Volume]\n",
       "Index: []"
      ]
     },
     "execution_count": 3,
     "metadata": {},
     "output_type": "execute_result"
    }
   ],
   "source": [
    "indexzero=data[data[\"Volume\"]==0].index\n",
    "\n",
    "\n",
    "data.drop(indexzero,inplace=True)\n",
    "data.loc[(data[\"Volume\"]==0)]"
   ]
  },
  {
   "cell_type": "code",
   "execution_count": 4,
   "id": "41f7d121",
   "metadata": {},
   "outputs": [
    {
     "data": {
      "text/plain": [
       "Local time    0\n",
       "Open          0\n",
       "High          0\n",
       "Low           0\n",
       "Close         0\n",
       "Volume        0\n",
       "dtype: int64"
      ]
     },
     "execution_count": 4,
     "metadata": {},
     "output_type": "execute_result"
    }
   ],
   "source": [
    "data.isna().sum()"
   ]
  },
  {
   "cell_type": "code",
   "execution_count": 5,
   "id": "c5c20d5e",
   "metadata": {},
   "outputs": [],
   "source": [
    "import pandas_ta as ta "
   ]
  },
  {
   "cell_type": "code",
   "execution_count": 6,
   "id": "fd674538",
   "metadata": {},
   "outputs": [],
   "source": [
    "data[\"ATR\"]=data.ta.atr(lenght=20)\n",
    "data[\"RSI\"]=data.ta.rsi()\n",
    "data[\"average\"]=data.ta.midprice(lenght=1)\n",
    "data[\"MA40\"]=data.ta.sma(lenght=40)\n",
    "data[\"MA80\"]=data.ta.sma(lenght=80)\n",
    "data[\"MA160\"]=data.ta.sma(lenght=160)"
   ]
  },
  {
   "cell_type": "code",
   "execution_count": 7,
   "id": "9531f1da",
   "metadata": {},
   "outputs": [
    {
     "data": {
      "text/html": [
       "<div>\n",
       "<style scoped>\n",
       "    .dataframe tbody tr th:only-of-type {\n",
       "        vertical-align: middle;\n",
       "    }\n",
       "\n",
       "    .dataframe tbody tr th {\n",
       "        vertical-align: top;\n",
       "    }\n",
       "\n",
       "    .dataframe thead th {\n",
       "        text-align: right;\n",
       "    }\n",
       "</style>\n",
       "<table border=\"1\" class=\"dataframe\">\n",
       "  <thead>\n",
       "    <tr style=\"text-align: right;\">\n",
       "      <th></th>\n",
       "      <th>Local time</th>\n",
       "      <th>Open</th>\n",
       "      <th>High</th>\n",
       "      <th>Low</th>\n",
       "      <th>Close</th>\n",
       "      <th>Volume</th>\n",
       "      <th>ATR</th>\n",
       "      <th>RSI</th>\n",
       "      <th>average</th>\n",
       "      <th>MA40</th>\n",
       "      <th>MA80</th>\n",
       "      <th>MA160</th>\n",
       "    </tr>\n",
       "  </thead>\n",
       "  <tbody>\n",
       "    <tr>\n",
       "      <th>30549</th>\n",
       "      <td>05.04.2024 17:00:00.000 GMT+0100</td>\n",
       "      <td>1.08401</td>\n",
       "      <td>1.08444</td>\n",
       "      <td>1.08331</td>\n",
       "      <td>1.08357</td>\n",
       "      <td>10922.86</td>\n",
       "      <td>0.001406</td>\n",
       "      <td>51.924084</td>\n",
       "      <td>1.083020</td>\n",
       "      <td>1.082896</td>\n",
       "      <td>1.082896</td>\n",
       "      <td>1.082896</td>\n",
       "    </tr>\n",
       "    <tr>\n",
       "      <th>30550</th>\n",
       "      <td>05.04.2024 18:00:00.000 GMT+0100</td>\n",
       "      <td>1.08359</td>\n",
       "      <td>1.08388</td>\n",
       "      <td>1.08314</td>\n",
       "      <td>1.08328</td>\n",
       "      <td>6276.33</td>\n",
       "      <td>0.001358</td>\n",
       "      <td>50.388401</td>\n",
       "      <td>1.083790</td>\n",
       "      <td>1.082833</td>\n",
       "      <td>1.082833</td>\n",
       "      <td>1.082833</td>\n",
       "    </tr>\n",
       "    <tr>\n",
       "      <th>30551</th>\n",
       "      <td>05.04.2024 19:00:00.000 GMT+0100</td>\n",
       "      <td>1.08328</td>\n",
       "      <td>1.08379</td>\n",
       "      <td>1.08306</td>\n",
       "      <td>1.08348</td>\n",
       "      <td>5454.43</td>\n",
       "      <td>0.001313</td>\n",
       "      <td>51.454742</td>\n",
       "      <td>1.083470</td>\n",
       "      <td>1.082806</td>\n",
       "      <td>1.082806</td>\n",
       "      <td>1.082806</td>\n",
       "    </tr>\n",
       "    <tr>\n",
       "      <th>30552</th>\n",
       "      <td>05.04.2024 20:00:00.000 GMT+0100</td>\n",
       "      <td>1.08348</td>\n",
       "      <td>1.08369</td>\n",
       "      <td>1.08320</td>\n",
       "      <td>1.08354</td>\n",
       "      <td>7699.30</td>\n",
       "      <td>0.001254</td>\n",
       "      <td>51.789523</td>\n",
       "      <td>1.083425</td>\n",
       "      <td>1.082772</td>\n",
       "      <td>1.082772</td>\n",
       "      <td>1.082772</td>\n",
       "    </tr>\n",
       "    <tr>\n",
       "      <th>30553</th>\n",
       "      <td>05.04.2024 21:00:00.000 GMT+0100</td>\n",
       "      <td>1.08354</td>\n",
       "      <td>1.08376</td>\n",
       "      <td>1.08337</td>\n",
       "      <td>1.08352</td>\n",
       "      <td>6422.56</td>\n",
       "      <td>0.001193</td>\n",
       "      <td>51.661630</td>\n",
       "      <td>1.083480</td>\n",
       "      <td>1.082779</td>\n",
       "      <td>1.082779</td>\n",
       "      <td>1.082779</td>\n",
       "    </tr>\n",
       "  </tbody>\n",
       "</table>\n",
       "</div>"
      ],
      "text/plain": [
       "                             Local time     Open     High      Low    Close  \\\n",
       "30549  05.04.2024 17:00:00.000 GMT+0100  1.08401  1.08444  1.08331  1.08357   \n",
       "30550  05.04.2024 18:00:00.000 GMT+0100  1.08359  1.08388  1.08314  1.08328   \n",
       "30551  05.04.2024 19:00:00.000 GMT+0100  1.08328  1.08379  1.08306  1.08348   \n",
       "30552  05.04.2024 20:00:00.000 GMT+0100  1.08348  1.08369  1.08320  1.08354   \n",
       "30553  05.04.2024 21:00:00.000 GMT+0100  1.08354  1.08376  1.08337  1.08352   \n",
       "\n",
       "         Volume       ATR        RSI   average      MA40      MA80     MA160  \n",
       "30549  10922.86  0.001406  51.924084  1.083020  1.082896  1.082896  1.082896  \n",
       "30550   6276.33  0.001358  50.388401  1.083790  1.082833  1.082833  1.082833  \n",
       "30551   5454.43  0.001313  51.454742  1.083470  1.082806  1.082806  1.082806  \n",
       "30552   7699.30  0.001254  51.789523  1.083425  1.082772  1.082772  1.082772  \n",
       "30553   6422.56  0.001193  51.661630  1.083480  1.082779  1.082779  1.082779  "
      ]
     },
     "execution_count": 7,
     "metadata": {},
     "output_type": "execute_result"
    }
   ],
   "source": [
    "data.tail()"
   ]
  },
  {
   "cell_type": "code",
   "execution_count": 8,
   "id": "b9cc68be",
   "metadata": {},
   "outputs": [],
   "source": [
    "from scipy.stats import linregress"
   ]
  },
  {
   "cell_type": "code",
   "execution_count": 9,
   "id": "3585eae1",
   "metadata": {},
   "outputs": [],
   "source": [
    "def getslope(array):\n",
    "    y=np.array(array)\n",
    "    x=np.arange(len(y))\n",
    "    slope=linregress(x,y)[0]\n",
    "    return slope\n",
    "    "
   ]
  },
  {
   "cell_type": "code",
   "execution_count": 17,
   "id": "7594c978",
   "metadata": {},
   "outputs": [],
   "source": [
    "backrollingN=6\n",
    "data[\"slopeMA40\"]=data[\"MA40\"].rolling(window=backrollingN).apply(getslope,raw=True)\n",
    "data[\"slopeMA80\"]=data[\"MA80\"].rolling(window=backrollingN).apply(getslope,raw=True)\n",
    "data[\"slopeMA160\"]=data[\"MA160\"].rolling(window=backrollingN).apply(getslope,raw=True)\n",
    "data[\"ASlope\"]=data[\"average\"].rolling(window=backrollingN).apply(getslope, raw=True)\n",
    "data[\"RSISlope\"]=data[\"RSI\"].rolling(window=backrollingN).apply(getslope, raw=True)"
   ]
  },
  {
   "cell_type": "code",
   "execution_count": 11,
   "id": "2bc161b9",
   "metadata": {},
   "outputs": [
    {
     "data": {
      "text/html": [
       "<div>\n",
       "<style scoped>\n",
       "    .dataframe tbody tr th:only-of-type {\n",
       "        vertical-align: middle;\n",
       "    }\n",
       "\n",
       "    .dataframe tbody tr th {\n",
       "        vertical-align: top;\n",
       "    }\n",
       "\n",
       "    .dataframe thead th {\n",
       "        text-align: right;\n",
       "    }\n",
       "</style>\n",
       "<table border=\"1\" class=\"dataframe\">\n",
       "  <thead>\n",
       "    <tr style=\"text-align: right;\">\n",
       "      <th></th>\n",
       "      <th>Local time</th>\n",
       "      <th>Open</th>\n",
       "      <th>High</th>\n",
       "      <th>Low</th>\n",
       "      <th>Close</th>\n",
       "      <th>Volume</th>\n",
       "      <th>ATR</th>\n",
       "      <th>RSI</th>\n",
       "      <th>average</th>\n",
       "      <th>MA40</th>\n",
       "      <th>MA80</th>\n",
       "      <th>MA160</th>\n",
       "      <th>slopeMA40</th>\n",
       "      <th>slopeMA80</th>\n",
       "      <th>slopeMA160</th>\n",
       "      <th>ASlope</th>\n",
       "      <th>RSISlope</th>\n",
       "    </tr>\n",
       "  </thead>\n",
       "  <tbody>\n",
       "    <tr>\n",
       "      <th>30549</th>\n",
       "      <td>05.04.2024 17:00:00.000 GMT+0100</td>\n",
       "      <td>1.08401</td>\n",
       "      <td>1.08444</td>\n",
       "      <td>1.08331</td>\n",
       "      <td>1.08357</td>\n",
       "      <td>10922.86</td>\n",
       "      <td>0.001406</td>\n",
       "      <td>51.924084</td>\n",
       "      <td>1.083020</td>\n",
       "      <td>1.082896</td>\n",
       "      <td>1.082896</td>\n",
       "      <td>1.082896</td>\n",
       "      <td>-0.000064</td>\n",
       "      <td>-0.000064</td>\n",
       "      <td>-0.000064</td>\n",
       "      <td>-0.000150</td>\n",
       "      <td>2.794389</td>\n",
       "    </tr>\n",
       "    <tr>\n",
       "      <th>30550</th>\n",
       "      <td>05.04.2024 18:00:00.000 GMT+0100</td>\n",
       "      <td>1.08359</td>\n",
       "      <td>1.08388</td>\n",
       "      <td>1.08314</td>\n",
       "      <td>1.08328</td>\n",
       "      <td>6276.33</td>\n",
       "      <td>0.001358</td>\n",
       "      <td>50.388401</td>\n",
       "      <td>1.083790</td>\n",
       "      <td>1.082833</td>\n",
       "      <td>1.082833</td>\n",
       "      <td>1.082833</td>\n",
       "      <td>-0.000017</td>\n",
       "      <td>-0.000017</td>\n",
       "      <td>-0.000017</td>\n",
       "      <td>0.000322</td>\n",
       "      <td>4.951381</td>\n",
       "    </tr>\n",
       "    <tr>\n",
       "      <th>30551</th>\n",
       "      <td>05.04.2024 19:00:00.000 GMT+0100</td>\n",
       "      <td>1.08328</td>\n",
       "      <td>1.08379</td>\n",
       "      <td>1.08306</td>\n",
       "      <td>1.08348</td>\n",
       "      <td>5454.43</td>\n",
       "      <td>0.001313</td>\n",
       "      <td>51.454742</td>\n",
       "      <td>1.083470</td>\n",
       "      <td>1.082806</td>\n",
       "      <td>1.082806</td>\n",
       "      <td>1.082806</td>\n",
       "      <td>0.000014</td>\n",
       "      <td>0.000014</td>\n",
       "      <td>0.000014</td>\n",
       "      <td>0.000494</td>\n",
       "      <td>3.861655</td>\n",
       "    </tr>\n",
       "    <tr>\n",
       "      <th>30552</th>\n",
       "      <td>05.04.2024 20:00:00.000 GMT+0100</td>\n",
       "      <td>1.08348</td>\n",
       "      <td>1.08369</td>\n",
       "      <td>1.08320</td>\n",
       "      <td>1.08354</td>\n",
       "      <td>7699.30</td>\n",
       "      <td>0.001254</td>\n",
       "      <td>51.789523</td>\n",
       "      <td>1.083425</td>\n",
       "      <td>1.082772</td>\n",
       "      <td>1.082772</td>\n",
       "      <td>1.082772</td>\n",
       "      <td>0.000004</td>\n",
       "      <td>0.000004</td>\n",
       "      <td>0.000004</td>\n",
       "      <td>0.000510</td>\n",
       "      <td>1.031794</td>\n",
       "    </tr>\n",
       "    <tr>\n",
       "      <th>30553</th>\n",
       "      <td>05.04.2024 21:00:00.000 GMT+0100</td>\n",
       "      <td>1.08354</td>\n",
       "      <td>1.08376</td>\n",
       "      <td>1.08337</td>\n",
       "      <td>1.08352</td>\n",
       "      <td>6422.56</td>\n",
       "      <td>0.001193</td>\n",
       "      <td>51.661630</td>\n",
       "      <td>1.083480</td>\n",
       "      <td>1.082779</td>\n",
       "      <td>1.082779</td>\n",
       "      <td>1.082779</td>\n",
       "      <td>-0.000020</td>\n",
       "      <td>-0.000020</td>\n",
       "      <td>-0.000020</td>\n",
       "      <td>0.000235</td>\n",
       "      <td>-0.359262</td>\n",
       "    </tr>\n",
       "  </tbody>\n",
       "</table>\n",
       "</div>"
      ],
      "text/plain": [
       "                             Local time     Open     High      Low    Close  \\\n",
       "30549  05.04.2024 17:00:00.000 GMT+0100  1.08401  1.08444  1.08331  1.08357   \n",
       "30550  05.04.2024 18:00:00.000 GMT+0100  1.08359  1.08388  1.08314  1.08328   \n",
       "30551  05.04.2024 19:00:00.000 GMT+0100  1.08328  1.08379  1.08306  1.08348   \n",
       "30552  05.04.2024 20:00:00.000 GMT+0100  1.08348  1.08369  1.08320  1.08354   \n",
       "30553  05.04.2024 21:00:00.000 GMT+0100  1.08354  1.08376  1.08337  1.08352   \n",
       "\n",
       "         Volume       ATR        RSI   average      MA40      MA80     MA160  \\\n",
       "30549  10922.86  0.001406  51.924084  1.083020  1.082896  1.082896  1.082896   \n",
       "30550   6276.33  0.001358  50.388401  1.083790  1.082833  1.082833  1.082833   \n",
       "30551   5454.43  0.001313  51.454742  1.083470  1.082806  1.082806  1.082806   \n",
       "30552   7699.30  0.001254  51.789523  1.083425  1.082772  1.082772  1.082772   \n",
       "30553   6422.56  0.001193  51.661630  1.083480  1.082779  1.082779  1.082779   \n",
       "\n",
       "       slopeMA40  slopeMA80  slopeMA160    ASlope  RSISlope  \n",
       "30549  -0.000064  -0.000064   -0.000064 -0.000150  2.794389  \n",
       "30550  -0.000017  -0.000017   -0.000017  0.000322  4.951381  \n",
       "30551   0.000014   0.000014    0.000014  0.000494  3.861655  \n",
       "30552   0.000004   0.000004    0.000004  0.000510  1.031794  \n",
       "30553  -0.000020  -0.000020   -0.000020  0.000235 -0.359262  "
      ]
     },
     "execution_count": 11,
     "metadata": {},
     "output_type": "execute_result"
    }
   ],
   "source": [
    "data.tail()"
   ]
  },
  {
   "cell_type": "code",
   "execution_count": 12,
   "id": "d4c6c401",
   "metadata": {},
   "outputs": [],
   "source": [
    "pipdiff=450*1e-5\n",
    "SLTPRatio=2\n"
   ]
  },
  {
   "cell_type": "code",
   "execution_count": 13,
   "id": "96259817",
   "metadata": {},
   "outputs": [],
   "source": [
    "def target(barsupfront,df):\n",
    "    lenght=len(df)\n",
    "    high=list(df[\"High\"])\n",
    "    low=list(df[\"Low\"])\n",
    "    close=list(df[\"Close\"])\n",
    "    open=list(df[\"Open\"])\n",
    "    trendcat=[None]*lenght\n",
    "    for line in range (0,lenght-barsupfront-2):\n",
    "        valueOpenLow=0\n",
    "        valueOpenHigh=0\n",
    "        for i in range(1,barsupfront+2):\n",
    "            value_1=open[line+1]-low[line+i]\n",
    "            value_2=open[line+1]-high[line+i]\n",
    "            valueOpenLow=max(value_1,valueOpenLow)\n",
    "            valueOpenHigh=min(value_2,valueOpenHigh)\n",
    "            if ((valueOpenLow>=pipdiff)and(-valueOpenHigh<=(pipdiff/2))):\n",
    "                trendcat[line]=1\n",
    "                break\n",
    "            elif ((valueOpenLow<=(pipdiff/2))and(-valueOpenHigh>=pipdiff)):\n",
    "                trendcat[line]=2\n",
    "                break\n",
    "            else:\n",
    "                  trendcat[line]=0\n",
    "    return trendcat\n",
    "        "
   ]
  },
  {
   "cell_type": "code",
   "execution_count": 26,
   "id": "53287c72",
   "metadata": {},
   "outputs": [
    {
     "data": {
      "text/html": [
       "<div>\n",
       "<style scoped>\n",
       "    .dataframe tbody tr th:only-of-type {\n",
       "        vertical-align: middle;\n",
       "    }\n",
       "\n",
       "    .dataframe tbody tr th {\n",
       "        vertical-align: top;\n",
       "    }\n",
       "\n",
       "    .dataframe thead th {\n",
       "        text-align: right;\n",
       "    }\n",
       "</style>\n",
       "<table border=\"1\" class=\"dataframe\">\n",
       "  <thead>\n",
       "    <tr style=\"text-align: right;\">\n",
       "      <th></th>\n",
       "      <th>Local time</th>\n",
       "      <th>Open</th>\n",
       "      <th>High</th>\n",
       "      <th>Low</th>\n",
       "      <th>Close</th>\n",
       "      <th>Volume</th>\n",
       "      <th>ATR</th>\n",
       "      <th>RSI</th>\n",
       "      <th>average</th>\n",
       "      <th>MA40</th>\n",
       "      <th>MA80</th>\n",
       "      <th>MA160</th>\n",
       "      <th>slopeMA40</th>\n",
       "      <th>slopeMA80</th>\n",
       "      <th>slopeMA160</th>\n",
       "      <th>ASlope</th>\n",
       "      <th>RSISlope</th>\n",
       "      <th>taget</th>\n",
       "    </tr>\n",
       "  </thead>\n",
       "  <tbody>\n",
       "    <tr>\n",
       "      <th>0</th>\n",
       "      <td>01.05.2019 00:00:00.000 GMT+0100</td>\n",
       "      <td>1.12112</td>\n",
       "      <td>1.12158</td>\n",
       "      <td>1.12111</td>\n",
       "      <td>1.12157</td>\n",
       "      <td>2146.6499</td>\n",
       "      <td>NaN</td>\n",
       "      <td>NaN</td>\n",
       "      <td>NaN</td>\n",
       "      <td>NaN</td>\n",
       "      <td>NaN</td>\n",
       "      <td>NaN</td>\n",
       "      <td>NaN</td>\n",
       "      <td>NaN</td>\n",
       "      <td>NaN</td>\n",
       "      <td>NaN</td>\n",
       "      <td>NaN</td>\n",
       "      <td>0.0</td>\n",
       "    </tr>\n",
       "    <tr>\n",
       "      <th>1</th>\n",
       "      <td>01.05.2019 01:00:00.000 GMT+0100</td>\n",
       "      <td>1.12157</td>\n",
       "      <td>1.12183</td>\n",
       "      <td>1.12148</td>\n",
       "      <td>1.12182</td>\n",
       "      <td>2129.1899</td>\n",
       "      <td>NaN</td>\n",
       "      <td>NaN</td>\n",
       "      <td>1.121470</td>\n",
       "      <td>NaN</td>\n",
       "      <td>NaN</td>\n",
       "      <td>NaN</td>\n",
       "      <td>NaN</td>\n",
       "      <td>NaN</td>\n",
       "      <td>NaN</td>\n",
       "      <td>NaN</td>\n",
       "      <td>NaN</td>\n",
       "      <td>0.0</td>\n",
       "    </tr>\n",
       "    <tr>\n",
       "      <th>2</th>\n",
       "      <td>01.05.2019 02:00:00.000 GMT+0100</td>\n",
       "      <td>1.12182</td>\n",
       "      <td>1.12185</td>\n",
       "      <td>1.12166</td>\n",
       "      <td>1.12173</td>\n",
       "      <td>2105.9800</td>\n",
       "      <td>NaN</td>\n",
       "      <td>NaN</td>\n",
       "      <td>1.121665</td>\n",
       "      <td>NaN</td>\n",
       "      <td>NaN</td>\n",
       "      <td>NaN</td>\n",
       "      <td>NaN</td>\n",
       "      <td>NaN</td>\n",
       "      <td>NaN</td>\n",
       "      <td>NaN</td>\n",
       "      <td>NaN</td>\n",
       "      <td>0.0</td>\n",
       "    </tr>\n",
       "    <tr>\n",
       "      <th>3</th>\n",
       "      <td>01.05.2019 03:00:00.000 GMT+0100</td>\n",
       "      <td>1.12172</td>\n",
       "      <td>1.12177</td>\n",
       "      <td>1.12138</td>\n",
       "      <td>1.12152</td>\n",
       "      <td>2010.6801</td>\n",
       "      <td>NaN</td>\n",
       "      <td>NaN</td>\n",
       "      <td>1.121615</td>\n",
       "      <td>NaN</td>\n",
       "      <td>NaN</td>\n",
       "      <td>NaN</td>\n",
       "      <td>NaN</td>\n",
       "      <td>NaN</td>\n",
       "      <td>NaN</td>\n",
       "      <td>NaN</td>\n",
       "      <td>NaN</td>\n",
       "      <td>0.0</td>\n",
       "    </tr>\n",
       "    <tr>\n",
       "      <th>4</th>\n",
       "      <td>01.05.2019 04:00:00.000 GMT+0100</td>\n",
       "      <td>1.12152</td>\n",
       "      <td>1.12196</td>\n",
       "      <td>1.12151</td>\n",
       "      <td>1.12184</td>\n",
       "      <td>3163.2700</td>\n",
       "      <td>NaN</td>\n",
       "      <td>NaN</td>\n",
       "      <td>1.121670</td>\n",
       "      <td>NaN</td>\n",
       "      <td>NaN</td>\n",
       "      <td>NaN</td>\n",
       "      <td>NaN</td>\n",
       "      <td>NaN</td>\n",
       "      <td>NaN</td>\n",
       "      <td>NaN</td>\n",
       "      <td>NaN</td>\n",
       "      <td>0.0</td>\n",
       "    </tr>\n",
       "  </tbody>\n",
       "</table>\n",
       "</div>"
      ],
      "text/plain": [
       "                         Local time     Open     High      Low    Close  \\\n",
       "0  01.05.2019 00:00:00.000 GMT+0100  1.12112  1.12158  1.12111  1.12157   \n",
       "1  01.05.2019 01:00:00.000 GMT+0100  1.12157  1.12183  1.12148  1.12182   \n",
       "2  01.05.2019 02:00:00.000 GMT+0100  1.12182  1.12185  1.12166  1.12173   \n",
       "3  01.05.2019 03:00:00.000 GMT+0100  1.12172  1.12177  1.12138  1.12152   \n",
       "4  01.05.2019 04:00:00.000 GMT+0100  1.12152  1.12196  1.12151  1.12184   \n",
       "\n",
       "      Volume  ATR  RSI   average  MA40  MA80  MA160  slopeMA40  slopeMA80  \\\n",
       "0  2146.6499  NaN  NaN       NaN   NaN   NaN    NaN        NaN        NaN   \n",
       "1  2129.1899  NaN  NaN  1.121470   NaN   NaN    NaN        NaN        NaN   \n",
       "2  2105.9800  NaN  NaN  1.121665   NaN   NaN    NaN        NaN        NaN   \n",
       "3  2010.6801  NaN  NaN  1.121615   NaN   NaN    NaN        NaN        NaN   \n",
       "4  3163.2700  NaN  NaN  1.121670   NaN   NaN    NaN        NaN        NaN   \n",
       "\n",
       "   slopeMA160  ASlope  RSISlope  taget  \n",
       "0         NaN     NaN       NaN    0.0  \n",
       "1         NaN     NaN       NaN    0.0  \n",
       "2         NaN     NaN       NaN    0.0  \n",
       "3         NaN     NaN       NaN    0.0  \n",
       "4         NaN     NaN       NaN    0.0  "
      ]
     },
     "execution_count": 26,
     "metadata": {},
     "output_type": "execute_result"
    }
   ],
   "source": [
    "data[\"taget\"]=target(6,data)\n",
    "data.head()"
   ]
  },
  {
   "cell_type": "code",
   "execution_count": 23,
   "id": "cc1cdf4d",
   "metadata": {},
   "outputs": [
    {
     "data": {
      "image/png": "[encoded data removed]",
      "text/plain": [
       "<Figure size 640x480 with 1 Axes>"
      ]
     },
     "metadata": {},
     "output_type": "display_data"
    }
   ],
   "source": [
    "from matplotlib import pyplot\n",
    "data_up=data.RSI[ data['taget'] == 2 ]\n",
    "data_down=data.RSI[ data['taget'] == 1 ]\n",
    "data_unclear=data.RSI[ data['taget'] == 0 ]\n",
    "pyplot.hist(data_unclear, bins=100, alpha=0.5, label='unclear')\n",
    "pyplot.hist(data_down, bins=100, alpha=0.5, label='down')\n",
    "pyplot.hist(data_up, bins=100, alpha=0.5, label='up')\n",
    "\n",
    "pyplot.legend(loc='upper right')\n",
    "pyplot.show()"
   ]
  },
  {
   "cell_type": "code",
   "execution_count": 18,
   "id": "c90d1725",
   "metadata": {},
   "outputs": [
    {
     "data": {
      "image/png": "[encoded data removed]",
      "text/plain": [
       "<Figure size 640x480 with 1 Axes>"
      ]
     },
     "metadata": {},
     "output_type": "display_data"
    }
   ],
   "source": [
    "from matplotlib import pyplot\n",
    "data_up=data.ATR[ data['taget'] == 2 ]\n",
    "data_down=data.ATR[ data['taget'] == 1 ]\n",
    "data_unclear=data.ATR[ data['taget'] == 0 ]\n",
    "pyplot.hist(data_unclear, bins=100, alpha=0.5, label='unclear')\n",
    "pyplot.hist(data_down, bins=100, alpha=0.5, label='down')\n",
    "pyplot.hist(data_up, bins=100, alpha=0.5, label='up')\n",
    "\n",
    "pyplot.legend(loc='upper right')\n",
    "pyplot.show()"
   ]
  },
  {
   "cell_type": "code",
   "execution_count": 24,
   "id": "b4c84910",
   "metadata": {},
   "outputs": [
    {
     "data": {
      "image/png": "[encoded data removed]",
      "text/plain": [
       "<Figure size 640x480 with 1 Axes>"
      ]
     },
     "metadata": {},
     "output_type": "display_data"
    }
   ],
   "source": [
    "data_up=data.MA160[ data['taget'] == 2 ]\n",
    "data_down=data.MA160[ data['taget'] == 1 ]\n",
    "data_unclear=data.MA160[ data['taget'] == 0 ]\n",
    "pyplot.hist(data_unclear, bins=100, alpha=0.5, label='unclear')\n",
    "pyplot.hist(data_down, bins=100, alpha=0.5, label='down')\n",
    "pyplot.hist(data_up, bins=100, alpha=0.5, label='up')\n",
    "\n",
    "pyplot.legend(loc='upper right')\n",
    "pyplot.show()"
   ]
  },
  {
   "cell_type": "code",
   "execution_count": 20,
   "id": "a3c98fc5",
   "metadata": {},
   "outputs": [
    {
     "data": {
      "image/png": "[encoded data removed]",
      "text/plain": [
       "<Figure size 640x480 with 1 Axes>"
      ]
     },
     "metadata": {},
     "output_type": "display_data"
    }
   ],
   "source": [
    "data_up=data.RSISlope[ data['taget'] == 2 ]\n",
    "data_down=data.RSISlope[ data['taget'] == 1 ]\n",
    "data_unclear=data.RSISlope[ data['taget'] == 0 ]\n",
    "pyplot.hist(data_unclear, bins=100, alpha=0.5, label='unclear')\n",
    "pyplot.hist(data_down, bins=100, alpha=0.5, label='down')\n",
    "pyplot.hist(data_up, bins=100, alpha=0.5, label='up')\n",
    "\n",
    "pyplot.legend(loc='upper right')\n",
    "pyplot.show()\n"
   ]
  },
  {
   "cell_type": "code",
   "execution_count": 25,
   "id": "0af45458",
   "metadata": {},
   "outputs": [
    {
     "data": {
      "image/png": "[encoded data removed]",
      "text/plain": [
       "<Figure size 640x480 with 1 Axes>"
      ]
     },
     "metadata": {},
     "output_type": "display_data"
    }
   ],
   "source": [
    "data_up=data.ASlope[ data['taget'] == 2 ]\n",
    "data_down=data.ASlope[ data['taget'] == 1 ]\n",
    "data_unclear=data.ASlope[ data['taget'] == 0 ]\n",
    "pyplot.hist(data_unclear, bins=100, alpha=0.5, label='unclear')\n",
    "pyplot.hist(data_down, bins=100, alpha=0.5, label='down')\n",
    "pyplot.hist(data_up, bins=100, alpha=0.5, label='up')\n",
    "\n",
    "pyplot.legend(loc='upper right')\n",
    "pyplot.show()"
   ]
  },
  {
   "cell_type": "code",
   "execution_count": 27,
   "id": "d9ef4582",
   "metadata": {},
   "outputs": [
    {
     "data": {
      "image/png": "[encoded data removed]",
      "text/plain": [
       "<Figure size 640x480 with 1 Axes>"
      ]
     },
     "metadata": {},
     "output_type": "display_data"
    }
   ],
   "source": [
    "data_up=data.ASlope[ data['taget'] == 2 ]\n",
    "data_down=data.ASlope[ data['taget'] == 1 ]\n",
    "data_unclear=data.ASlope[ data['taget'] == 0 ]\n",
    "pyplot.hist(data_unclear, bins=100, alpha=0.5, label='unclear')\n",
    "pyplot.hist(data_down, bins=100, alpha=0.5, label='down')\n",
    "pyplot.hist(data_up, bins=100, alpha=0.5, label='up')\n",
    "\n",
    "pyplot.legend(loc='upper right')\n",
    "pyplot.show()"
   ]
  },
  {
   "cell_type": "code",
   "execution_count": 28,
   "id": "526bb12f",
   "metadata": {},
   "outputs": [
    {
     "data": {
      "image/png": "[encoded data removed]",
      "text/plain": [
       "<Figure size 640x480 with 1 Axes>"
      ]
     },
     "metadata": {},
     "output_type": "display_data"
    }
   ],
   "source": [
    "data_up=data.MA40[ data['taget'] == 2 ]\n",
    "data_down=data.MA40[ data['taget'] == 1 ]\n",
    "data_unclear=data.MA40[ data['taget'] == 0 ]\n",
    "pyplot.hist(data_unclear, bins=100, alpha=0.5, label='unclear')\n",
    "pyplot.hist(data_down, bins=100, alpha=0.5, label='down')\n",
    "pyplot.hist(data_up, bins=100, alpha=0.5, label='up')\n",
    "\n",
    "pyplot.legend(loc='upper right')\n",
    "pyplot.show()"
   ]
  },
  {
   "cell_type": "code",
   "execution_count": 29,
   "id": "64982d66",
   "metadata": {},
   "outputs": [
    {
     "data": {
      "image/png": "[encoded data removed]",
      "text/plain": [
       "<Figure size 640x480 with 1 Axes>"
      ]
     },
     "metadata": {},
     "output_type": "display_data"
    }
   ],
   "source": [
    "data_up=data.MA80[ data['taget'] == 2 ]\n",
    "data_down=data.MA80[ data['taget'] == 1 ]\n",
    "data_unclear=data.MA80[ data['taget'] == 0 ]\n",
    "pyplot.hist(data_unclear, bins=100, alpha=0.5, label='unclear')\n",
    "pyplot.hist(data_down, bins=100, alpha=0.5, label='down')\n",
    "pyplot.hist(data_up, bins=100, alpha=0.5, label='up')\n",
    "\n",
    "pyplot.legend(loc='upper right')\n",
    "pyplot.show()"
   ]
  },
  {
   "cell_type": "code",
   "execution_count": 30,
   "id": "b95d9e2b",
   "metadata": {},
   "outputs": [
    {
     "data": {
      "image/png": "[encoded data removed]",
      "text/plain": [
       "<Figure size 640x480 with 1 Axes>"
      ]
     },
     "metadata": {},
     "output_type": "display_data"
    }
   ],
   "source": [
    "data_up=data.ATR[ data['taget'] == 2 ]\n",
    "data_down=data.ATR[ data['taget'] == 1 ]\n",
    "data_unclear=data.ATR[ data['taget'] == 0 ]\n",
    "pyplot.hist(data_unclear, bins=100, alpha=0.5, label='unclear')\n",
    "pyplot.hist(data_down, bins=100, alpha=0.5, label='down')\n",
    "pyplot.hist(data_up, bins=100, alpha=0.5, label='up')\n",
    "\n",
    "pyplot.legend(loc='upper right')\n",
    "pyplot.show()"
   ]
  },
  {
   "cell_type": "code",
   "execution_count": null,
   "id": "36198dd1",
   "metadata": {},
   "outputs": [],
   "source": []
  }
 ],
 "metadata": {
  "kernelspec": {
   "display_name": "Python 3 (ipykernel)",
   "language": "python",
   "name": "python3"
  },
  "language_info": {
   "codemirror_mode": {
    "name": "ipython",
    "version": 3
   },
   "file_extension": ".py",
   "mimetype": "text/x-python",
   "name": "python",
   "nbconvert_exporter": "python",
   "pygments_lexer": "ipython3",
   "version": "3.11.5"
  }
 },
 "nbformat": 4,
 "nbformat_minor": 5
}
